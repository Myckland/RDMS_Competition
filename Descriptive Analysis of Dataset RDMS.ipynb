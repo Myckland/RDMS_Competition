{
 "cells": [
  {
   "cell_type": "markdown",
   "metadata": {},
   "source": [
    "# Descriptive analysis \n",
    "Histogram \n",
    "Pair-plots for correlations variable\n"
   ]
  },
  {
   "cell_type": "code",
   "execution_count": 58,
   "metadata": {},
   "outputs": [],
   "source": [
    "import pandas as pd \n",
    "import numpy as np\n",
    "import matplotlib.pyplot as plt\n",
    "import seaborn as sns"
   ]
  },
  {
   "cell_type": "code",
   "execution_count": 59,
   "metadata": {},
   "outputs": [],
   "source": [
    "data = pd.read_csv(\"C:\\\\Users\\\\Myckland\\\\Google Drive\\\\RMDS-20210603T030223Z-001\\\\RMDS\\\\full_data_2.csv\")"
   ]
  },
  {
   "cell_type": "code",
   "execution_count": 60,
   "metadata": {},
   "outputs": [
    {
     "data": {
      "text/html": [
       "<div>\n",
       "<style scoped>\n",
       "    .dataframe tbody tr th:only-of-type {\n",
       "        vertical-align: middle;\n",
       "    }\n",
       "\n",
       "    .dataframe tbody tr th {\n",
       "        vertical-align: top;\n",
       "    }\n",
       "\n",
       "    .dataframe thead th {\n",
       "        text-align: right;\n",
       "    }\n",
       "</style>\n",
       "<table border=\"1\" class=\"dataframe\">\n",
       "  <thead>\n",
       "    <tr style=\"text-align: right;\">\n",
       "      <th></th>\n",
       "      <th>cityid</th>\n",
       "      <th>zpid</th>\n",
       "      <th>countyid</th>\n",
       "      <th>homeType</th>\n",
       "      <th>zipcode</th>\n",
       "      <th>bathrooms</th>\n",
       "      <th>tax year</th>\n",
       "      <th>tax_paid</th>\n",
       "      <th>tax_assessment</th>\n",
       "      <th>year_built</th>\n",
       "      <th>...</th>\n",
       "      <th>hasCooling</th>\n",
       "      <th>lotSize</th>\n",
       "      <th>livingArea</th>\n",
       "      <th>furnished</th>\n",
       "      <th>homeStatus</th>\n",
       "      <th>datePosted</th>\n",
       "      <th>bedrooms</th>\n",
       "      <th>price</th>\n",
       "      <th>priceHistory</th>\n",
       "      <th>schools</th>\n",
       "    </tr>\n",
       "  </thead>\n",
       "  <tbody>\n",
       "    <tr>\n",
       "      <th>0</th>\n",
       "      <td>20330</td>\n",
       "      <td>15063325</td>\n",
       "      <td>3227</td>\n",
       "      <td>SINGLE_FAMILY</td>\n",
       "      <td>94109</td>\n",
       "      <td>4.0</td>\n",
       "      <td>2020</td>\n",
       "      <td>61868.14</td>\n",
       "      <td>5107533.0</td>\n",
       "      <td>1900.0</td>\n",
       "      <td>...</td>\n",
       "      <td>True</td>\n",
       "      <td>3,953 sqft</td>\n",
       "      <td>4,500 sqft</td>\n",
       "      <td>False</td>\n",
       "      <td>FOR_SALE</td>\n",
       "      <td>1.613420e+12</td>\n",
       "      <td>4.0</td>\n",
       "      <td>6299000</td>\n",
       "      <td>[{'priceChangeRate': -0.07299484915379, 'event...</td>\n",
       "      <td>[{'link': 'https://www.greatschools.org/school...</td>\n",
       "    </tr>\n",
       "    <tr>\n",
       "      <th>1</th>\n",
       "      <td>20330</td>\n",
       "      <td>15064243</td>\n",
       "      <td>3227</td>\n",
       "      <td>CONDO</td>\n",
       "      <td>94111</td>\n",
       "      <td>2.0</td>\n",
       "      <td>2020</td>\n",
       "      <td>13054.02</td>\n",
       "      <td>1033716.0</td>\n",
       "      <td>1993.0</td>\n",
       "      <td>...</td>\n",
       "      <td>NaN</td>\n",
       "      <td>NaN</td>\n",
       "      <td>1,033 sqft</td>\n",
       "      <td>False</td>\n",
       "      <td>FOR_SALE</td>\n",
       "      <td>1.617630e+12</td>\n",
       "      <td>2.0</td>\n",
       "      <td>1035000</td>\n",
       "      <td>[{'priceChangeRate': 0.083769633507853, 'event...</td>\n",
       "      <td>[{'link': 'https://www.greatschools.org/school...</td>\n",
       "    </tr>\n",
       "    <tr>\n",
       "      <th>2</th>\n",
       "      <td>20330</td>\n",
       "      <td>15064559</td>\n",
       "      <td>3227</td>\n",
       "      <td>CONDO</td>\n",
       "      <td>94109</td>\n",
       "      <td>4.0</td>\n",
       "      <td>2020</td>\n",
       "      <td>48079.48</td>\n",
       "      <td>3940936.0</td>\n",
       "      <td>1976.0</td>\n",
       "      <td>...</td>\n",
       "      <td>NaN</td>\n",
       "      <td>5,695 sqft</td>\n",
       "      <td>3,746 sqft</td>\n",
       "      <td>False</td>\n",
       "      <td>FOR_SALE</td>\n",
       "      <td>1.615230e+12</td>\n",
       "      <td>3.0</td>\n",
       "      <td>5495000</td>\n",
       "      <td>[{'priceChangeRate': 0.57, 'event': 'Listed fo...</td>\n",
       "      <td>[{'link': 'https://www.greatschools.org/school...</td>\n",
       "    </tr>\n",
       "    <tr>\n",
       "      <th>3</th>\n",
       "      <td>20330</td>\n",
       "      <td>15064689</td>\n",
       "      <td>3227</td>\n",
       "      <td>CONDO</td>\n",
       "      <td>94133</td>\n",
       "      <td>1.0</td>\n",
       "      <td>2020</td>\n",
       "      <td>6191.64</td>\n",
       "      <td>514373.0</td>\n",
       "      <td>1908.0</td>\n",
       "      <td>...</td>\n",
       "      <td>True</td>\n",
       "      <td>3,780 sqft</td>\n",
       "      <td>1,600 sqft</td>\n",
       "      <td>False</td>\n",
       "      <td>FOR_SALE</td>\n",
       "      <td>1.618500e+12</td>\n",
       "      <td>2.0</td>\n",
       "      <td>1495000</td>\n",
       "      <td>[{'priceChangeRate': 0, 'event': 'Listed for s...</td>\n",
       "      <td>[{'link': 'https://www.greatschools.org/school...</td>\n",
       "    </tr>\n",
       "    <tr>\n",
       "      <th>4</th>\n",
       "      <td>20330</td>\n",
       "      <td>15064806</td>\n",
       "      <td>3227</td>\n",
       "      <td>SINGLE_FAMILY</td>\n",
       "      <td>94133</td>\n",
       "      <td>2.0</td>\n",
       "      <td>2020</td>\n",
       "      <td>23832.32</td>\n",
       "      <td>1929479.0</td>\n",
       "      <td>1928.0</td>\n",
       "      <td>...</td>\n",
       "      <td>True</td>\n",
       "      <td>1,202 sqft</td>\n",
       "      <td>1,700 sqft</td>\n",
       "      <td>False</td>\n",
       "      <td>FOR_SALE</td>\n",
       "      <td>1.614930e+12</td>\n",
       "      <td>2.0</td>\n",
       "      <td>2500000</td>\n",
       "      <td>[{'priceChangeRate': 0.48809523809524, 'event'...</td>\n",
       "      <td>[{'link': 'https://www.greatschools.org/school...</td>\n",
       "    </tr>\n",
       "  </tbody>\n",
       "</table>\n",
       "<p>5 rows × 27 columns</p>\n",
       "</div>"
      ],
      "text/plain": [
       "   cityid      zpid  countyid       homeType  zipcode  bathrooms  tax year  \\\n",
       "0   20330  15063325      3227  SINGLE_FAMILY    94109        4.0      2020   \n",
       "1   20330  15064243      3227          CONDO    94111        2.0      2020   \n",
       "2   20330  15064559      3227          CONDO    94109        4.0      2020   \n",
       "3   20330  15064689      3227          CONDO    94133        1.0      2020   \n",
       "4   20330  15064806      3227  SINGLE_FAMILY    94133        2.0      2020   \n",
       "\n",
       "   tax_paid  tax_assessment  year_built  ... hasCooling     lotSize  \\\n",
       "0  61868.14       5107533.0      1900.0  ...       True  3,953 sqft   \n",
       "1  13054.02       1033716.0      1993.0  ...        NaN         NaN   \n",
       "2  48079.48       3940936.0      1976.0  ...        NaN  5,695 sqft   \n",
       "3   6191.64        514373.0      1908.0  ...       True  3,780 sqft   \n",
       "4  23832.32       1929479.0      1928.0  ...       True  1,202 sqft   \n",
       "\n",
       "   livingArea furnished homeStatus    datePosted bedrooms    price  \\\n",
       "0  4,500 sqft     False   FOR_SALE  1.613420e+12      4.0  6299000   \n",
       "1  1,033 sqft     False   FOR_SALE  1.617630e+12      2.0  1035000   \n",
       "2  3,746 sqft     False   FOR_SALE  1.615230e+12      3.0  5495000   \n",
       "3  1,600 sqft     False   FOR_SALE  1.618500e+12      2.0  1495000   \n",
       "4  1,700 sqft     False   FOR_SALE  1.614930e+12      2.0  2500000   \n",
       "\n",
       "                                        priceHistory  \\\n",
       "0  [{'priceChangeRate': -0.07299484915379, 'event...   \n",
       "1  [{'priceChangeRate': 0.083769633507853, 'event...   \n",
       "2  [{'priceChangeRate': 0.57, 'event': 'Listed fo...   \n",
       "3  [{'priceChangeRate': 0, 'event': 'Listed for s...   \n",
       "4  [{'priceChangeRate': 0.48809523809524, 'event'...   \n",
       "\n",
       "                                             schools  \n",
       "0  [{'link': 'https://www.greatschools.org/school...  \n",
       "1  [{'link': 'https://www.greatschools.org/school...  \n",
       "2  [{'link': 'https://www.greatschools.org/school...  \n",
       "3  [{'link': 'https://www.greatschools.org/school...  \n",
       "4  [{'link': 'https://www.greatschools.org/school...  \n",
       "\n",
       "[5 rows x 27 columns]"
      ]
     },
     "execution_count": 60,
     "metadata": {},
     "output_type": "execute_result"
    }
   ],
   "source": [
    "data.head()"
   ]
  },
  {
   "cell_type": "code",
   "execution_count": 61,
   "metadata": {},
   "outputs": [
    {
     "data": {
      "text/html": [
       "<div>\n",
       "<style scoped>\n",
       "    .dataframe tbody tr th:only-of-type {\n",
       "        vertical-align: middle;\n",
       "    }\n",
       "\n",
       "    .dataframe tbody tr th {\n",
       "        vertical-align: top;\n",
       "    }\n",
       "\n",
       "    .dataframe thead th {\n",
       "        text-align: right;\n",
       "    }\n",
       "</style>\n",
       "<table border=\"1\" class=\"dataframe\">\n",
       "  <thead>\n",
       "    <tr style=\"text-align: right;\">\n",
       "      <th></th>\n",
       "      <th>cityid</th>\n",
       "      <th>zpid</th>\n",
       "      <th>countyid</th>\n",
       "      <th>zipcode</th>\n",
       "      <th>bathrooms</th>\n",
       "      <th>tax year</th>\n",
       "      <th>tax_paid</th>\n",
       "      <th>tax_assessment</th>\n",
       "      <th>year_built</th>\n",
       "      <th>datePosted</th>\n",
       "      <th>bedrooms</th>\n",
       "      <th>price</th>\n",
       "    </tr>\n",
       "  </thead>\n",
       "  <tbody>\n",
       "    <tr>\n",
       "      <th>count</th>\n",
       "      <td>11900.000000</td>\n",
       "      <td>1.190000e+04</td>\n",
       "      <td>11900.000000</td>\n",
       "      <td>11900.000000</td>\n",
       "      <td>11090.000000</td>\n",
       "      <td>11900.000000</td>\n",
       "      <td>11843.000000</td>\n",
       "      <td>1.187900e+04</td>\n",
       "      <td>11524.000000</td>\n",
       "      <td>8.817000e+03</td>\n",
       "      <td>10918.000000</td>\n",
       "      <td>1.190000e+04</td>\n",
       "    </tr>\n",
       "    <tr>\n",
       "      <th>mean</th>\n",
       "      <td>23792.455966</td>\n",
       "      <td>4.904960e+07</td>\n",
       "      <td>2860.653950</td>\n",
       "      <td>92054.570756</td>\n",
       "      <td>2.421010</td>\n",
       "      <td>2019.804874</td>\n",
       "      <td>10691.523831</td>\n",
       "      <td>8.407973e+05</td>\n",
       "      <td>1954.398646</td>\n",
       "      <td>1.606755e+12</td>\n",
       "      <td>3.075197</td>\n",
       "      <td>1.539653e+06</td>\n",
       "    </tr>\n",
       "    <tr>\n",
       "      <th>std</th>\n",
       "      <td>15993.285556</td>\n",
       "      <td>6.787194e+07</td>\n",
       "      <td>634.600433</td>\n",
       "      <td>1957.198988</td>\n",
       "      <td>1.568334</td>\n",
       "      <td>0.422785</td>\n",
       "      <td>18538.687517</td>\n",
       "      <td>1.496212e+06</td>\n",
       "      <td>130.478912</td>\n",
       "      <td>1.839183e+10</td>\n",
       "      <td>1.554814</td>\n",
       "      <td>3.877577e+06</td>\n",
       "    </tr>\n",
       "    <tr>\n",
       "      <th>min</th>\n",
       "      <td>3506.000000</td>\n",
       "      <td>1.506332e+07</td>\n",
       "      <td>204.000000</td>\n",
       "      <td>53215.000000</td>\n",
       "      <td>0.000000</td>\n",
       "      <td>2016.000000</td>\n",
       "      <td>16.600000</td>\n",
       "      <td>6.420000e+02</td>\n",
       "      <td>0.000000</td>\n",
       "      <td>1.398870e+12</td>\n",
       "      <td>0.000000</td>\n",
       "      <td>0.000000e+00</td>\n",
       "    </tr>\n",
       "    <tr>\n",
       "      <th>25%</th>\n",
       "      <td>12447.000000</td>\n",
       "      <td>1.973387e+07</td>\n",
       "      <td>2841.000000</td>\n",
       "      <td>90049.000000</td>\n",
       "      <td>2.000000</td>\n",
       "      <td>2020.000000</td>\n",
       "      <td>3838.840000</td>\n",
       "      <td>2.873095e+05</td>\n",
       "      <td>1936.750000</td>\n",
       "      <td>1.604090e+12</td>\n",
       "      <td>2.000000</td>\n",
       "      <td>5.290000e+05</td>\n",
       "    </tr>\n",
       "    <tr>\n",
       "      <th>50%</th>\n",
       "      <td>12447.000000</td>\n",
       "      <td>2.061450e+07</td>\n",
       "      <td>3101.000000</td>\n",
       "      <td>91602.000000</td>\n",
       "      <td>2.000000</td>\n",
       "      <td>2020.000000</td>\n",
       "      <td>6921.090000</td>\n",
       "      <td>5.382140e+05</td>\n",
       "      <td>1962.000000</td>\n",
       "      <td>1.615480e+12</td>\n",
       "      <td>3.000000</td>\n",
       "      <td>7.850000e+05</td>\n",
       "    </tr>\n",
       "    <tr>\n",
       "      <th>75%</th>\n",
       "      <td>33839.000000</td>\n",
       "      <td>2.600290e+07</td>\n",
       "      <td>3101.000000</td>\n",
       "      <td>94107.000000</td>\n",
       "      <td>3.000000</td>\n",
       "      <td>2020.000000</td>\n",
       "      <td>11244.265000</td>\n",
       "      <td>8.739350e+05</td>\n",
       "      <td>1987.000000</td>\n",
       "      <td>1.618260e+12</td>\n",
       "      <td>4.000000</td>\n",
       "      <td>1.268200e+06</td>\n",
       "    </tr>\n",
       "    <tr>\n",
       "      <th>max</th>\n",
       "      <td>54296.000000</td>\n",
       "      <td>3.316446e+08</td>\n",
       "      <td>3227.000000</td>\n",
       "      <td>95864.000000</td>\n",
       "      <td>24.000000</td>\n",
       "      <td>2020.000000</td>\n",
       "      <td>382738.720000</td>\n",
       "      <td>3.009000e+07</td>\n",
       "      <td>2022.000000</td>\n",
       "      <td>1.619140e+12</td>\n",
       "      <td>36.000000</td>\n",
       "      <td>9.900000e+07</td>\n",
       "    </tr>\n",
       "  </tbody>\n",
       "</table>\n",
       "</div>"
      ],
      "text/plain": [
       "             cityid          zpid      countyid       zipcode     bathrooms  \\\n",
       "count  11900.000000  1.190000e+04  11900.000000  11900.000000  11090.000000   \n",
       "mean   23792.455966  4.904960e+07   2860.653950  92054.570756      2.421010   \n",
       "std    15993.285556  6.787194e+07    634.600433   1957.198988      1.568334   \n",
       "min     3506.000000  1.506332e+07    204.000000  53215.000000      0.000000   \n",
       "25%    12447.000000  1.973387e+07   2841.000000  90049.000000      2.000000   \n",
       "50%    12447.000000  2.061450e+07   3101.000000  91602.000000      2.000000   \n",
       "75%    33839.000000  2.600290e+07   3101.000000  94107.000000      3.000000   \n",
       "max    54296.000000  3.316446e+08   3227.000000  95864.000000     24.000000   \n",
       "\n",
       "           tax year       tax_paid  tax_assessment    year_built  \\\n",
       "count  11900.000000   11843.000000    1.187900e+04  11524.000000   \n",
       "mean    2019.804874   10691.523831    8.407973e+05   1954.398646   \n",
       "std        0.422785   18538.687517    1.496212e+06    130.478912   \n",
       "min     2016.000000      16.600000    6.420000e+02      0.000000   \n",
       "25%     2020.000000    3838.840000    2.873095e+05   1936.750000   \n",
       "50%     2020.000000    6921.090000    5.382140e+05   1962.000000   \n",
       "75%     2020.000000   11244.265000    8.739350e+05   1987.000000   \n",
       "max     2020.000000  382738.720000    3.009000e+07   2022.000000   \n",
       "\n",
       "         datePosted      bedrooms         price  \n",
       "count  8.817000e+03  10918.000000  1.190000e+04  \n",
       "mean   1.606755e+12      3.075197  1.539653e+06  \n",
       "std    1.839183e+10      1.554814  3.877577e+06  \n",
       "min    1.398870e+12      0.000000  0.000000e+00  \n",
       "25%    1.604090e+12      2.000000  5.290000e+05  \n",
       "50%    1.615480e+12      3.000000  7.850000e+05  \n",
       "75%    1.618260e+12      4.000000  1.268200e+06  \n",
       "max    1.619140e+12     36.000000  9.900000e+07  "
      ]
     },
     "execution_count": 61,
     "metadata": {},
     "output_type": "execute_result"
    }
   ],
   "source": [
    "data.describe()"
   ]
  },
  {
   "cell_type": "markdown",
   "metadata": {},
   "source": [
    "# We want to see how many missing values in each column"
   ]
  },
  {
   "cell_type": "code",
   "execution_count": 81,
   "metadata": {},
   "outputs": [],
   "source": [
    "#data.isna().sum()"
   ]
  },
  {
   "cell_type": "code",
   "execution_count": 63,
   "metadata": {},
   "outputs": [],
   "source": [
    "#data.columns"
   ]
  },
  {
   "cell_type": "code",
   "execution_count": 80,
   "metadata": {},
   "outputs": [],
   "source": [
    "#data.info()"
   ]
  },
  {
   "cell_type": "code",
   "execution_count": 21,
   "metadata": {},
   "outputs": [
    {
     "data": {
      "image/png": "[encoded data removed]",
      "text/plain": [
       "<Figure size 432x288 with 1 Axes>"
      ]
     },
     "metadata": {
      "needs_background": "light"
     },
     "output_type": "display_data"
    }
   ],
   "source": [
    "data['bedrooms'].value_counts().plot(kind ='bar')\n",
    "plt.title(\"Number of bedroom\")\n",
    "plt.xlabel(\"Bedrooms\")\n",
    "plt.ylabel(\"Count\")\n",
    "sns.despine;"
   ]
  },
  {
   "cell_type": "markdown",
   "metadata": {},
   "source": [
    "Check the most common house using parameter bedroom, we can see from the data that 3 bedroom is the most common followed by 2 and 4. Why does this is important ? New developer can attract the market with 3,2,and 4 bedroom to attract markets (highest selling)"
   ]
  },
  {
   "cell_type": "markdown",
   "metadata": {},
   "source": [
    "## Looking for the common factors that affecting the price of house"
   ]
  },
  {
   "cell_type": "markdown",
   "metadata": {},
   "source": [
    "We are looking at several factors from https://www.opendoor.com/w/blog/factors-that-influence-home-value. According to the website we can see\n",
    "    factors such as cityid, homeType,  zipcode, bathrooms, tax year, tax_paid, tax_assessment, year_built,hasGarage, hasPetsAllowed,\n",
    "    hoa, hasPrivatePool, heating, hasCooling, lotSize, livingArea, furnished, homeStatuts, bedrooms, priceHistory, schools"
   ]
  },
  {
   "cell_type": "markdown",
   "metadata": {},
   "source": [
    "what to do next ? stepwise regression and backwise choosing variable method"
   ]
  },
  {
   "cell_type": "code",
   "execution_count": 77,
   "metadata": {},
   "outputs": [
    {
     "data": {
      "image/png": "[encoded data removed]",
      "text/plain": [
       "<Figure size 432x288 with 1 Axes>"
      ]
     },
     "metadata": {
      "needs_background": "light"
     },
     "output_type": "display_data"
    }
   ],
   "source": [
    "plt.scatter(data.price,data.tax_paid)\n",
    "plt.title(\"Price vs Tax Paid\");"
   ]
  },
  {
   "cell_type": "code",
   "execution_count": 79,
   "metadata": {},
   "outputs": [
    {
     "data": {
      "text/plain": [
       "Text(0.5, 1.0, 'Which is the pricey location by zipcode')"
      ]
     },
     "execution_count": 79,
     "metadata": {},
     "output_type": "execute_result"
    },
    {
     "data": {
      "image/png": "[encoded data removed]",
      "text/plain": [
       "<Figure size 432x288 with 1 Axes>"
      ]
     },
     "metadata": {
      "needs_background": "light"
     },
     "output_type": "display_data"
    }
   ],
   "source": [
    "plt.scatter(data.zipcode,data.price)\n",
    "plt.title(\"Which is the pricey location by zipcode\")"
   ]
  },
  {
   "cell_type": "markdown",
   "metadata": {},
   "source": [
    "pas diliat banyak yg object, gabisa diplot dan dibandingin ama price. lalu gak tau kenapa jadi kek gitu"
   ]
  },
  {
   "cell_type": "markdown",
   "metadata": {},
   "source": [
    "### Linear Regression"
   ]
  },
  {
   "cell_type": "code",
   "execution_count": 83,
   "metadata": {},
   "outputs": [],
   "source": [
    "from sklearn.linear_model import LinearRegression"
   ]
  },
  {
   "cell_type": "code",
   "execution_count": 84,
   "metadata": {},
   "outputs": [],
   "source": [
    "reg = LinearRegression()"
   ]
  },
  {
   "cell_type": "code",
   "execution_count": 85,
   "metadata": {},
   "outputs": [],
   "source": [
    "## not completed\n",
    "labels = data ['price']\n"
   ]
  },
  {
   "cell_type": "code",
   "execution_count": 92,
   "metadata": {},
   "outputs": [],
   "source": [
    "from sklearn.model_selection import train_test_split"
   ]
  },
  {
   "cell_type": "code",
   "execution_count": 93,
   "metadata": {},
   "outputs": [
    {
     "ename": "NameError",
     "evalue": "name 'train1' is not defined",
     "output_type": "error",
     "traceback": [
      "\u001b[1;31m---------------------------------------------------------------------------\u001b[0m",
      "\u001b[1;31mNameError\u001b[0m                                 Traceback (most recent call last)",
      "\u001b[1;32m<ipython-input-93-c17c3357c6e1>\u001b[0m in \u001b[0;36m<module>\u001b[1;34m\u001b[0m\n\u001b[1;32m----> 1\u001b[1;33m \u001b[0mx_train\u001b[0m\u001b[1;33m,\u001b[0m \u001b[0mx_test\u001b[0m\u001b[1;33m,\u001b[0m \u001b[0my_train\u001b[0m\u001b[1;33m,\u001b[0m \u001b[0my_test\u001b[0m \u001b[1;33m=\u001b[0m \u001b[0mtrain_test_split\u001b[0m\u001b[1;33m(\u001b[0m\u001b[0mtrain1\u001b[0m\u001b[1;33m,\u001b[0m \u001b[0mlabels\u001b[0m\u001b[1;33m,\u001b[0m \u001b[0mtest_size\u001b[0m \u001b[1;33m=\u001b[0m \u001b[1;36m0.3\u001b[0m\u001b[1;33m,\u001b[0m \u001b[0mrandom_state\u001b[0m \u001b[1;33m=\u001b[0m \u001b[1;36m2\u001b[0m\u001b[1;33m)\u001b[0m\u001b[1;33m\u001b[0m\u001b[1;33m\u001b[0m\u001b[0m\n\u001b[0m",
      "\u001b[1;31mNameError\u001b[0m: name 'train1' is not defined"
     ]
    }
   ],
   "source": [
    "x_train, x_test, y_train, y_test = train_test_split(train1, labels, test_size = 0.3, random_state = 2)"
   ]
  },
  {
   "cell_type": "code",
   "execution_count": null,
   "metadata": {},
   "outputs": [],
   "source": [
    "reg.fit(x_train,y_train)"
   ]
  },
  {
   "cell_type": "code",
   "execution_count": 94,
   "metadata": {},
   "outputs": [
    {
     "ename": "NameError",
     "evalue": "name 'x_test' is not defined",
     "output_type": "error",
     "traceback": [
      "\u001b[1;31m---------------------------------------------------------------------------\u001b[0m",
      "\u001b[1;31mNameError\u001b[0m                                 Traceback (most recent call last)",
      "\u001b[1;32m<ipython-input-94-5c3e1a22801d>\u001b[0m in \u001b[0;36m<module>\u001b[1;34m\u001b[0m\n\u001b[1;32m----> 1\u001b[1;33m \u001b[0mreg\u001b[0m\u001b[1;33m.\u001b[0m\u001b[0mscore\u001b[0m\u001b[1;33m(\u001b[0m\u001b[0mx_test\u001b[0m\u001b[1;33m,\u001b[0m\u001b[0my_test\u001b[0m\u001b[1;33m)\u001b[0m\u001b[1;33m\u001b[0m\u001b[1;33m\u001b[0m\u001b[0m\n\u001b[0m",
      "\u001b[1;31mNameError\u001b[0m: name 'x_test' is not defined"
     ]
    }
   ],
   "source": [
    "reg.score(x_test,y_test)"
   ]
  },
  {
   "cell_type": "code",
   "execution_count": null,
   "metadata": {},
   "outputs": [],
   "source": [
    "Want to do gradient boosting, For building a prediction model , many experts use gradient boosting regression , so what is gradient boosting ? It is a machine learning technique for regression and classification problems, which produces a prediction model in the form of an ensemble of weak prediction models, typically decision trees."
   ]
  }
 ],
 "metadata": {
  "kernelspec": {
   "display_name": "Python 3",
   "language": "python",
   "name": "python3"
  },
  "language_info": {
   "codemirror_mode": {
    "name": "ipython",
    "version": 3
   },
   "file_extension": ".py",
   "mimetype": "text/x-python",
   "name": "python",
   "nbconvert_exporter": "python",
   "pygments_lexer": "ipython3",
   "version": "3.8.3"
  }
 },
 "nbformat": 4,
 "nbformat_minor": 4
}
